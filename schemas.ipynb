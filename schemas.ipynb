{
  "cells": [
    {
      "cell_type": "markdown",
      "metadata": {
        "id": "view-in-github",
        "colab_type": "text"
      },
      "source": [
        "<a href=\"https://colab.research.google.com/github/yujinkim23/DataEngineering/blob/main/schemas.ipynb\" target=\"_parent\"><img src=\"https://colab.research.google.com/assets/colab-badge.svg\" alt=\"Open In Colab\"/></a>"
      ]
    },
    {
      "cell_type": "markdown",
      "metadata": {
        "id": "8qf-TmnsBgXd"
      },
      "source": [
        "# Schemas"
      ]
    },
    {
      "cell_type": "markdown",
      "metadata": {
        "id": "Dd6t0uFzuR4X"
      },
      "source": [
        "## Download and install Spark"
      ]
    },
    {
      "cell_type": "code",
      "execution_count": 1,
      "metadata": {
        "id": "zToS5PqxBXpK",
        "colab": {
          "base_uri": "https://localhost:8080/"
        },
        "outputId": "a695c0c7-de3d-4b3b-8cd6-b1e5ea3f0c25"
      },
      "outputs": [
        {
          "output_type": "stream",
          "name": "stdout",
          "text": [
            " reported-crimes.csv\t\t spark-2.3.1-bin-hadoop2.7\n",
            "'rows.csv?accessType=DOWNLOAD'\t spark-2.3.1-bin-hadoop2.7.tgz\n",
            " sample_data\t\t\t spark-2.3.1-bin-hadoop2.7.tgz.1\n"
          ]
        }
      ],
      "source": [
        "!ls"
      ]
    },
    {
      "cell_type": "code",
      "execution_count": 2,
      "metadata": {
        "id": "tt7ZS1_wGgjn",
        "colab": {
          "base_uri": "https://localhost:8080/"
        },
        "outputId": "5021cbfc-e1a2-490b-a85e-52390cb4b8a5"
      },
      "outputs": [
        {
          "output_type": "stream",
          "name": "stdout",
          "text": [
            "\r0% [Working]\r            \rHit:1 http://security.ubuntu.com/ubuntu focal-security InRelease\n",
            "\r0% [Waiting for headers] [Connected to cloud.r-project.org (108.157.162.43)] [W\r                                                                               \rHit:2 http://archive.ubuntu.com/ubuntu focal InRelease\n",
            "\r0% [Waiting for headers] [Waiting for headers] [Waiting for headers] [Connectin\r                                                                               \rHit:3 http://archive.ubuntu.com/ubuntu focal-updates InRelease\n",
            "\r0% [Waiting for headers] [Waiting for headers] [Waiting for headers] [Connectin\r                                                                               \rHit:4 https://cloud.r-project.org/bin/linux/ubuntu focal-cran40/ InRelease\n",
            "Hit:5 http://archive.ubuntu.com/ubuntu focal-backports InRelease\n",
            "Ign:6 https://developer.download.nvidia.com/compute/machine-learning/repos/ubuntu2004/x86_64  InRelease\n",
            "Hit:7 https://developer.download.nvidia.com/compute/cuda/repos/ubuntu2004/x86_64  InRelease\n",
            "Hit:8 https://developer.download.nvidia.com/compute/machine-learning/repos/ubuntu2004/x86_64  Release\n",
            "Hit:9 http://ppa.launchpad.net/c2d4u.team/c2d4u4.0+/ubuntu focal InRelease\n",
            "Hit:10 http://ppa.launchpad.net/cran/libgit2/ubuntu focal InRelease\n",
            "Hit:11 http://ppa.launchpad.net/deadsnakes/ppa/ubuntu focal InRelease\n",
            "Hit:12 http://ppa.launchpad.net/graphics-drivers/ppa/ubuntu focal InRelease\n",
            "Reading package lists... Done\n"
          ]
        }
      ],
      "source": [
        "!apt-get update\n",
        "!apt-get install openjdk-8-jdk-headless -qq > /dev/null\n",
        "!wget -q http://archive.apache.org/dist/spark/spark-2.3.1/spark-2.3.1-bin-hadoop2.7.tgz\n",
        "!tar xf spark-2.3.1-bin-hadoop2.7.tgz\n",
        "!pip install -q findspark"
      ]
    },
    {
      "cell_type": "markdown",
      "metadata": {
        "id": "FEuEkV0BlzAD"
      },
      "source": [
        "## Setup environment"
      ]
    },
    {
      "cell_type": "markdown",
      "source": [
        "[Jan 2023 update]\n",
        "- Google colab recently upgraded to Python 3.8. Unfortunately this breaks spark 2.3.1. \n",
        "- Please use the code below where we install from the pyspark package instead"
      ],
      "metadata": {
        "id": "7nc44SPTx2OZ"
      }
    },
    {
      "cell_type": "code",
      "source": [
        "!pip install pyspark"
      ],
      "metadata": {
        "id": "TtHmgGatx1pK",
        "colab": {
          "base_uri": "https://localhost:8080/"
        },
        "outputId": "c51e7c51-360f-48e2-ff08-ccd241c8b02b"
      },
      "execution_count": 3,
      "outputs": [
        {
          "output_type": "stream",
          "name": "stdout",
          "text": [
            "Looking in indexes: https://pypi.org/simple, https://us-python.pkg.dev/colab-wheels/public/simple/\n",
            "Requirement already satisfied: pyspark in /usr/local/lib/python3.8/dist-packages (3.3.1)\n",
            "Requirement already satisfied: py4j==0.10.9.5 in /usr/local/lib/python3.8/dist-packages (from pyspark) (0.10.9.5)\n"
          ]
        }
      ]
    },
    {
      "cell_type": "code",
      "source": [
        "from pyspark.sql import SparkSession\n",
        "spark = SparkSession.builder.master(\"local[*]\").getOrCreate()\n",
        "spark"
      ],
      "metadata": {
        "id": "yavRi46Qx1Qj",
        "colab": {
          "base_uri": "https://localhost:8080/",
          "height": 219
        },
        "outputId": "94c122fa-edde-4167-8e8e-1f2d73cc47e3"
      },
      "execution_count": 4,
      "outputs": [
        {
          "output_type": "execute_result",
          "data": {
            "text/plain": [
              "<pyspark.sql.session.SparkSession at 0x7f8a22c9c490>"
            ],
            "text/html": [
              "\n",
              "            <div>\n",
              "                <p><b>SparkSession - in-memory</b></p>\n",
              "                \n",
              "        <div>\n",
              "            <p><b>SparkContext</b></p>\n",
              "\n",
              "            <p><a href=\"http://27a5862f6278:4040\">Spark UI</a></p>\n",
              "\n",
              "            <dl>\n",
              "              <dt>Version</dt>\n",
              "                <dd><code>v3.3.1</code></dd>\n",
              "              <dt>Master</dt>\n",
              "                <dd><code>local[*]</code></dd>\n",
              "              <dt>AppName</dt>\n",
              "                <dd><code>pyspark-shell</code></dd>\n",
              "            </dl>\n",
              "        </div>\n",
              "        \n",
              "            </div>\n",
              "        "
            ]
          },
          "metadata": {},
          "execution_count": 4
        }
      ]
    },
    {
      "cell_type": "code",
      "execution_count": 5,
      "metadata": {
        "id": "sdOOq4twHN1K"
      },
      "outputs": [],
      "source": [
        "#import os\n",
        "#os.environ[\"JAVA_HOME\"] = \"/usr/lib/jvm/java-8-openjdk-amd64\"\n",
        "#os.environ[\"SPARK_HOME\"] = \"/content/spark-2.3.1-bin-hadoop2.7\"\n",
        "\n",
        "#import findspark\n",
        "#findspark.init()\n",
        "#from pyspark import SparkContext\n",
        "#sc = SparkContext.getOrCreate()\n",
        "\n",
        "#import pyspark\n",
        "#from pyspark.sql import SparkSession\n",
        "#spark = SparkSession.builder.getOrCreate() \n",
        "#spark"
      ]
    },
    {
      "cell_type": "markdown",
      "metadata": {
        "id": "0ysUlfFrN5OD"
      },
      "source": [
        "## Downloading and preprocessing Chicago's Reported Crime Data"
      ]
    },
    {
      "cell_type": "code",
      "execution_count": 6,
      "metadata": {
        "id": "FDtw5Hy3N-pV",
        "colab": {
          "base_uri": "https://localhost:8080/"
        },
        "outputId": "5d5a3af6-d088-4193-fb71-0beb47a35909"
      },
      "outputs": [
        {
          "output_type": "stream",
          "name": "stdout",
          "text": [
            "--2023-02-11 18:01:51--  https://data.cityofchicago.org/api/views/dwme-t96c/rows.csv?accessType=DOWNLOAD\n",
            "Resolving data.cityofchicago.org (data.cityofchicago.org)... 52.206.140.199, 52.206.68.26, 52.206.140.205\n",
            "Connecting to data.cityofchicago.org (data.cityofchicago.org)|52.206.140.199|:443... connected.\n",
            "HTTP request sent, awaiting response... 200 OK\n",
            "Length: unspecified [text/csv]\n",
            "Saving to: ‘rows.csv?accessType=DOWNLOAD.1’\n",
            "\n",
            "rows.csv?accessType     [      <=>           ]  47.50M  3.11MB/s    in 16s     \n",
            "\n",
            "2023-02-11 18:02:07 (3.01 MB/s) - ‘rows.csv?accessType=DOWNLOAD.1’ saved [49811074]\n",
            "\n",
            "total 807720\n",
            "-rw-r--r--  1 root root  49811074 Feb 11 14:43  reported-crimes.csv\n",
            "-rw-r--r--  1 root root  49811074 Feb 11 14:43 'rows.csv?accessType=DOWNLOAD'\n",
            "-rw-r--r--  1 root root  49811074 Feb 11 14:43 'rows.csv?accessType=DOWNLOAD.1'\n",
            "drwxr-xr-x  1 root root      4096 Feb  9 14:42  sample_data\n",
            "drwxrwxr-x 13 1000 1000      4096 Jun  1  2018  spark-2.3.1-bin-hadoop2.7\n",
            "-rw-r--r--  1 root root 225883783 Jun  1  2018  spark-2.3.1-bin-hadoop2.7.tgz\n",
            "-rw-r--r--  1 root root 225883783 Jun  1  2018  spark-2.3.1-bin-hadoop2.7.tgz.1\n",
            "-rw-r--r--  1 root root 225883783 Jun  1  2018  spark-2.3.1-bin-hadoop2.7.tgz.2\n"
          ]
        }
      ],
      "source": [
        "!wget https://data.cityofchicago.org/api/views/dwme-t96c/rows.csv?accessType=DOWNLOAD\n",
        "!ls -l"
      ]
    },
    {
      "cell_type": "code",
      "execution_count": 7,
      "metadata": {
        "id": "v4P5mMONYyVd",
        "colab": {
          "base_uri": "https://localhost:8080/"
        },
        "outputId": "de723468-8af5-44c0-ed44-0e8e957d3e60"
      },
      "outputs": [
        {
          "output_type": "stream",
          "name": "stdout",
          "text": [
            "total 759076\n",
            "-rw-r--r--  1 root root  49811074 Feb 11 14:43  reported-crimes.csv\n",
            "-rw-r--r--  1 root root  49811074 Feb 11 14:43 'rows.csv?accessType=DOWNLOAD.1'\n",
            "drwxr-xr-x  1 root root      4096 Feb  9 14:42  sample_data\n",
            "drwxrwxr-x 13 1000 1000      4096 Jun  1  2018  spark-2.3.1-bin-hadoop2.7\n",
            "-rw-r--r--  1 root root 225883783 Jun  1  2018  spark-2.3.1-bin-hadoop2.7.tgz\n",
            "-rw-r--r--  1 root root 225883783 Jun  1  2018  spark-2.3.1-bin-hadoop2.7.tgz.1\n",
            "-rw-r--r--  1 root root 225883783 Jun  1  2018  spark-2.3.1-bin-hadoop2.7.tgz.2\n"
          ]
        }
      ],
      "source": [
        "!mv rows.csv\\?accessType\\=DOWNLOAD reported-crimes.csv\n",
        "!ls -l"
      ]
    },
    {
      "cell_type": "code",
      "execution_count": 77,
      "metadata": {
        "id": "9-1cK0nPNS95",
        "colab": {
          "base_uri": "https://localhost:8080/"
        },
        "outputId": "45016dec-3a9a-40ff-e2ce-953bec249f2b"
      },
      "outputs": [
        {
          "output_type": "stream",
          "name": "stdout",
          "text": [
            "+--------+-----------+-------------------+--------------------+----+-------------+--------------------+--------------------+------+--------+----+--------+----+--------------+--------+------------+------------+----+--------------------+------------+-------------+--------------------+\n",
            "|      ID|Case Number|               Date|               Block|IUCR| Primary Type|         Description|Location Description|Arrest|Domestic|Beat|District|Ward|Community Area|FBI Code|X Coordinate|Y Coordinate|Year|          Updated On|    Latitude|    Longitude|            Location|\n",
            "+--------+-----------+-------------------+--------------------+----+-------------+--------------------+--------------------+------+--------+----+--------+----+--------------+--------+------------+------------+----+--------------------+------------+-------------+--------------------+\n",
            "|12343475|   JE202728|2021-04-16 20:45:00|   056XX N RIDGE AVE|0820|        THEFT|      $500 AND UNDER|     OTHER (SPECIFY)| false|   false|2013|     020|  48|            77|      06|        null|        null|2021|04/23/2021 04:51:...|        null|         null|                null|\n",
            "|12602803|   JF125633|2021-10-21 11:00:00|083XX S STONY ISL...|500E|OTHER OFFENSE|       EAVESDROPPING|     OTHER (SPECIFY)| false|   false|0412|     004|   8|            45|      26|     1188260|     1849805|2021|02/27/2022 03:46:...| 41.74294124|-87.585783412|(41.74294124, -87...|\n",
            "|12445976|   JE328996|2021-08-07 02:36:00|131XX S FORRESTVI...|041A|      BATTERY|AGGRAVATED - HANDGUN|              STREET| false|   false|0533|     005|   9|            54|     04B|     1183883|     1819061|2021|01/03/2023 03:46:...|41.658678993|-87.602776239|(41.658678993, -8...|\n",
            "|12519170|   JE252347|2021-06-02 11:30:00|     004XX W 27TH ST|2018|    NARCOTICS|MANUFACTURE / DEL...|              STREET|  true|   false|0914|     009|  11|            60|      18|        null|        null|2021|01/03/2023 03:46:...|        null|         null|                null|\n",
            "|12265790|   JE108071|2021-01-09 15:59:00|017XX W WINNEMAC AVE|1020|        ARSON|             BY FIRE|VEHICLE NON-COMME...|  true|    true|2032|     020|  40|             3|      09|     1164039|     1933591|2021|08/12/2021 04:59:...|41.973401006|-87.672165851|(41.973401006, -8...|\n",
            "+--------+-----------+-------------------+--------------------+----+-------------+--------------------+--------------------+------+--------+----+--------+----+--------------+--------+------------+------------+----+--------------------+------------+-------------+--------------------+\n",
            "only showing top 5 rows\n",
            "\n"
          ]
        }
      ],
      "source": [
        "from pyspark.sql.functions import to_timestamp,col,lit\n",
        "rc = spark.read.csv('reported-crimes.csv',header=True).withColumn('Date',to_timestamp(col('Date'),'MM/dd/yyyy hh:mm:ss a')).filter(col('Date') <= lit('2021-11-11'))\n",
        "rc.show(5)"
      ]
    },
    {
      "cell_type": "code",
      "source": [
        "rc.count()"
      ],
      "metadata": {
        "colab": {
          "base_uri": "https://localhost:8080/"
        },
        "id": "wyZQVbeVZrfA",
        "outputId": "201a8bc7-fe33-4e4a-a987-9945e774e71e"
      },
      "execution_count": 9,
      "outputs": [
        {
          "output_type": "execute_result",
          "data": {
            "text/plain": [
              "179939"
            ]
          },
          "metadata": {},
          "execution_count": 9
        }
      ]
    },
    {
      "cell_type": "markdown",
      "metadata": {
        "id": "mI_zYOVpf2yK"
      },
      "source": [
        "## Schemas"
      ]
    },
    {
      "cell_type": "code",
      "execution_count": 10,
      "metadata": {
        "id": "PeeOFy5cgDRq",
        "colab": {
          "base_uri": "https://localhost:8080/"
        },
        "outputId": "ef92a4b6-3e17-4e3c-f1a2-3997f9d9113e"
      },
      "outputs": [
        {
          "output_type": "stream",
          "name": "stdout",
          "text": [
            "root\n",
            " |-- ID: string (nullable = true)\n",
            " |-- Case Number: string (nullable = true)\n",
            " |-- Date: timestamp (nullable = true)\n",
            " |-- Block: string (nullable = true)\n",
            " |-- IUCR: string (nullable = true)\n",
            " |-- Primary Type: string (nullable = true)\n",
            " |-- Description: string (nullable = true)\n",
            " |-- Location Description: string (nullable = true)\n",
            " |-- Arrest: string (nullable = true)\n",
            " |-- Domestic: string (nullable = true)\n",
            " |-- Beat: string (nullable = true)\n",
            " |-- District: string (nullable = true)\n",
            " |-- Ward: string (nullable = true)\n",
            " |-- Community Area: string (nullable = true)\n",
            " |-- FBI Code: string (nullable = true)\n",
            " |-- X Coordinate: string (nullable = true)\n",
            " |-- Y Coordinate: string (nullable = true)\n",
            " |-- Year: string (nullable = true)\n",
            " |-- Updated On: string (nullable = true)\n",
            " |-- Latitude: string (nullable = true)\n",
            " |-- Longitude: string (nullable = true)\n",
            " |-- Location: string (nullable = true)\n",
            "\n"
          ]
        }
      ],
      "source": [
        "rc.printSchema()"
      ]
    },
    {
      "cell_type": "code",
      "execution_count": 11,
      "metadata": {
        "id": "qLS_NEpEgDBJ"
      },
      "outputs": [],
      "source": [
        "from pyspark.sql.types import StructType, StructField, StringType, TimestampType, BooleanType, DoubleType, IntegerType"
      ]
    },
    {
      "cell_type": "code",
      "source": [
        "rc.columns"
      ],
      "metadata": {
        "colab": {
          "base_uri": "https://localhost:8080/"
        },
        "id": "nx-ptNjXmNM7",
        "outputId": "b05abfb7-8532-4d7b-89fc-e65507c894fb"
      },
      "execution_count": 12,
      "outputs": [
        {
          "output_type": "execute_result",
          "data": {
            "text/plain": [
              "['ID',\n",
              " 'Case Number',\n",
              " 'Date',\n",
              " 'Block',\n",
              " 'IUCR',\n",
              " 'Primary Type',\n",
              " 'Description',\n",
              " 'Location Description',\n",
              " 'Arrest',\n",
              " 'Domestic',\n",
              " 'Beat',\n",
              " 'District',\n",
              " 'Ward',\n",
              " 'Community Area',\n",
              " 'FBI Code',\n",
              " 'X Coordinate',\n",
              " 'Y Coordinate',\n",
              " 'Year',\n",
              " 'Updated On',\n",
              " 'Latitude',\n",
              " 'Longitude',\n",
              " 'Location']"
            ]
          },
          "metadata": {},
          "execution_count": 12
        }
      ]
    },
    {
      "cell_type": "code",
      "execution_count": 13,
      "metadata": {
        "id": "ugRDxNwNgHNa"
      },
      "outputs": [],
      "source": [
        "labels = [\n",
        "  ('ID', StringType()),\n",
        "  ('Case Number', StringType()),\n",
        "  ('Date', TimestampType()),\n",
        "  ('Block', StringType()),\n",
        "  ('IUCR', StringType()), \n",
        "  ('Primary Type', StringType()),\n",
        "  ('Description', StringType()),\n",
        "  ('Location Description', StringType()),\n",
        "  ('Arrest', StringType()),\n",
        "  ('Domestic', BooleanType()),\n",
        "  ('Beat', StringType()),\n",
        "  ('District', StringType()),\n",
        "  ('Ward', StringType()),\n",
        "  ('Community Area', StringType()),\n",
        "  ('FBI Code', StringType()),\n",
        "  ('X Coordinate', StringType()),\n",
        "  ('Y Coordinate', StringType()),\n",
        "  ('Year', IntegerType()),\n",
        "  ('Updated On', StringType()),\n",
        "  ('Latitude', DoubleType()),\n",
        "  ('Longitude', DoubleType()),\n",
        "  ('Location', StringType())\n",
        "]"
      ]
    },
    {
      "cell_type": "code",
      "execution_count": 14,
      "metadata": {
        "id": "T6w6-fN9gG_7",
        "colab": {
          "base_uri": "https://localhost:8080/"
        },
        "outputId": "ee13f140-a9d9-4334-dc8c-f921e00977df"
      },
      "outputs": [
        {
          "output_type": "execute_result",
          "data": {
            "text/plain": [
              "StructType([StructField('ID', StringType(), True), StructField('Case Number', StringType(), True), StructField('Date', TimestampType(), True), StructField('Block', StringType(), True), StructField('IUCR', StringType(), True), StructField('Primary Type', StringType(), True), StructField('Description', StringType(), True), StructField('Location Description', StringType(), True), StructField('Arrest', StringType(), True), StructField('Domestic', BooleanType(), True), StructField('Beat', StringType(), True), StructField('District', StringType(), True), StructField('Ward', StringType(), True), StructField('Community Area', StringType(), True), StructField('FBI Code', StringType(), True), StructField('X Coordinate', StringType(), True), StructField('Y Coordinate', StringType(), True), StructField('Year', IntegerType(), True), StructField('Updated On', StringType(), True), StructField('Latitude', DoubleType(), True), StructField('Longitude', DoubleType(), True), StructField('Location', StringType(), True)])"
            ]
          },
          "metadata": {},
          "execution_count": 14
        }
      ],
      "source": [
        "schema = StructType([StructField (x[0], x[1], True) for x in labels])\n",
        "schema"
      ]
    },
    {
      "cell_type": "code",
      "source": [
        "!ls -1"
      ],
      "metadata": {
        "colab": {
          "base_uri": "https://localhost:8080/"
        },
        "id": "N2th6mKBpHIQ",
        "outputId": "fbb77720-ec95-4923-a16e-8aafef2bf617"
      },
      "execution_count": 15,
      "outputs": [
        {
          "output_type": "stream",
          "name": "stdout",
          "text": [
            "reported-crimes.csv\n",
            "'rows.csv?accessType=DOWNLOAD.1'\n",
            "sample_data\n",
            "spark-2.3.1-bin-hadoop2.7\n",
            "spark-2.3.1-bin-hadoop2.7.tgz\n",
            "spark-2.3.1-bin-hadoop2.7.tgz.1\n",
            "spark-2.3.1-bin-hadoop2.7.tgz.2\n"
          ]
        }
      ]
    },
    {
      "cell_type": "code",
      "execution_count": 16,
      "metadata": {
        "id": "JkUF4yJFgG25"
      },
      "outputs": [],
      "source": [
        "rc = spark.read.csv('reported-crimes.csv', schema=schema, header=True)"
      ]
    },
    {
      "cell_type": "code",
      "execution_count": 17,
      "metadata": {
        "id": "o3IB6VxLgGYi",
        "colab": {
          "base_uri": "https://localhost:8080/"
        },
        "outputId": "a42f4f47-e7a9-4f39-8e14-0f3779bdc876"
      },
      "outputs": [
        {
          "output_type": "stream",
          "name": "stdout",
          "text": [
            "root\n",
            " |-- ID: string (nullable = true)\n",
            " |-- Case Number: string (nullable = true)\n",
            " |-- Date: timestamp (nullable = true)\n",
            " |-- Block: string (nullable = true)\n",
            " |-- IUCR: string (nullable = true)\n",
            " |-- Primary Type: string (nullable = true)\n",
            " |-- Description: string (nullable = true)\n",
            " |-- Location Description: string (nullable = true)\n",
            " |-- Arrest: string (nullable = true)\n",
            " |-- Domestic: boolean (nullable = true)\n",
            " |-- Beat: string (nullable = true)\n",
            " |-- District: string (nullable = true)\n",
            " |-- Ward: string (nullable = true)\n",
            " |-- Community Area: string (nullable = true)\n",
            " |-- FBI Code: string (nullable = true)\n",
            " |-- X Coordinate: string (nullable = true)\n",
            " |-- Y Coordinate: string (nullable = true)\n",
            " |-- Year: integer (nullable = true)\n",
            " |-- Updated On: string (nullable = true)\n",
            " |-- Latitude: double (nullable = true)\n",
            " |-- Longitude: double (nullable = true)\n",
            " |-- Location: string (nullable = true)\n",
            "\n"
          ]
        }
      ],
      "source": [
        "rc.printSchema()"
      ]
    },
    {
      "cell_type": "code",
      "source": [
        "rc.show(5)\n"
      ],
      "metadata": {
        "colab": {
          "base_uri": "https://localhost:8080/"
        },
        "id": "8CSLLmzEpZqq",
        "outputId": "7efab9b7-5d54-4046-8bd7-f8492f700750"
      },
      "execution_count": 61,
      "outputs": [
        {
          "output_type": "stream",
          "name": "stdout",
          "text": [
            "+--------+-----------+-------------------+--------------------+----+-------------+--------------------+--------------------+------+--------+----+--------+----+--------------+--------+------------+------------+----+--------------------+------------+-------------+--------------------+\n",
            "|      ID|Case Number|               Date|               Block|IUCR| Primary Type|         Description|Location Description|Arrest|Domestic|Beat|District|Ward|Community Area|FBI Code|X Coordinate|Y Coordinate|Year|          Updated On|    Latitude|    Longitude|            Location|\n",
            "+--------+-----------+-------------------+--------------------+----+-------------+--------------------+--------------------+------+--------+----+--------+----+--------------+--------+------------+------------+----+--------------------+------------+-------------+--------------------+\n",
            "|12343475|   JE202728|2021-04-16 20:45:00|   056XX N RIDGE AVE|0820|        THEFT|      $500 AND UNDER|     OTHER (SPECIFY)| false|   false|2013|     020|  48|            77|      06|        null|        null|2021|04/23/2021 04:51:...|        null|         null|                null|\n",
            "|12602803|   JF125633|2021-10-21 11:00:00|083XX S STONY ISL...|500E|OTHER OFFENSE|       EAVESDROPPING|     OTHER (SPECIFY)| false|   false|0412|     004|   8|            45|      26|     1188260|     1849805|2021|02/27/2022 03:46:...| 41.74294124|-87.585783412|(41.74294124, -87...|\n",
            "|12445976|   JE328996|2021-08-07 02:36:00|131XX S FORRESTVI...|041A|      BATTERY|AGGRAVATED - HANDGUN|              STREET| false|   false|0533|     005|   9|            54|     04B|     1183883|     1819061|2021|01/03/2023 03:46:...|41.658678993|-87.602776239|(41.658678993, -8...|\n",
            "|12519170|   JE252347|2021-06-02 11:30:00|     004XX W 27TH ST|2018|    NARCOTICS|MANUFACTURE / DEL...|              STREET|  true|   false|0914|     009|  11|            60|      18|        null|        null|2021|01/03/2023 03:46:...|        null|         null|                null|\n",
            "|12265790|   JE108071|2021-01-09 15:59:00|017XX W WINNEMAC AVE|1020|        ARSON|             BY FIRE|VEHICLE NON-COMME...|  true|    true|2032|     020|  40|             3|      09|     1164039|     1933591|2021|08/12/2021 04:59:...|41.973401006|-87.672165851|(41.973401006, -8...|\n",
            "+--------+-----------+-------------------+--------------------+----+-------------+--------------------+--------------------+------+--------+----+--------+----+--------------+--------+------------+------------+----+--------------------+------------+-------------+--------------------+\n",
            "only showing top 5 rows\n",
            "\n"
          ]
        }
      ]
    },
    {
      "cell_type": "markdown",
      "source": [
        "## Working with columns"
      ],
      "metadata": {
        "id": "d3tKihFmrHnG"
      }
    },
    {
      "cell_type": "code",
      "source": [
        "rc.select('IUCR').show(5)"
      ],
      "metadata": {
        "colab": {
          "base_uri": "https://localhost:8080/"
        },
        "id": "fLKMoruDpa8Q",
        "outputId": "c64a3c3d-53f8-486e-ca53-fb763b95af81"
      },
      "execution_count": 19,
      "outputs": [
        {
          "output_type": "stream",
          "name": "stdout",
          "text": [
            "+----+\n",
            "|IUCR|\n",
            "+----+\n",
            "|0460|\n",
            "|0820|\n",
            "|500E|\n",
            "|0850|\n",
            "|0486|\n",
            "+----+\n",
            "only showing top 5 rows\n",
            "\n"
          ]
        }
      ]
    },
    {
      "cell_type": "code",
      "source": [
        "rc.select('Case Number','Date','Arrest').show(5)"
      ],
      "metadata": {
        "colab": {
          "base_uri": "https://localhost:8080/"
        },
        "id": "Xe2Kn6aNqPJf",
        "outputId": "d48e6f90-481c-4d3c-92b0-e3258f7baf5a"
      },
      "execution_count": 62,
      "outputs": [
        {
          "output_type": "stream",
          "name": "stdout",
          "text": [
            "+-----------+-------------------+------+\n",
            "|Case Number|               Date|Arrest|\n",
            "+-----------+-------------------+------+\n",
            "|   JE202728|2021-04-16 20:45:00| false|\n",
            "|   JF125633|2021-10-21 11:00:00| false|\n",
            "|   JE328996|2021-08-07 02:36:00| false|\n",
            "|   JE252347|2021-06-02 11:30:00|  true|\n",
            "|   JE108071|2021-01-09 15:59:00|  true|\n",
            "+-----------+-------------------+------+\n",
            "only showing top 5 rows\n",
            "\n"
          ]
        }
      ]
    },
    {
      "cell_type": "markdown",
      "source": [
        "### Add a column with name One, with entries all 1"
      ],
      "metadata": {
        "id": "9uDrFEZFrNt0"
      }
    },
    {
      "cell_type": "code",
      "source": [
        "from pyspark.sql.functions import lit"
      ],
      "metadata": {
        "id": "hlcR2Nkmqcvr"
      },
      "execution_count": 21,
      "outputs": []
    },
    {
      "cell_type": "code",
      "source": [
        "#rc.withColumn('One',lit(1)).show(5)"
      ],
      "metadata": {
        "colab": {
          "base_uri": "https://localhost:8080/"
        },
        "id": "bQb47S80rb1L",
        "outputId": "bc1c0e3e-9789-4c5d-ea84-20beb6de8e91"
      },
      "execution_count": 22,
      "outputs": [
        {
          "output_type": "stream",
          "name": "stdout",
          "text": [
            "+--------+-----------+----+--------------------+----+-------------+--------------------+--------------------+------+--------+----+--------+----+--------------+--------+------------+------------+----+--------------------+------------+-------------+--------------------+---+\n",
            "|      ID|Case Number|Date|               Block|IUCR| Primary Type|         Description|Location Description|Arrest|Domestic|Beat|District|Ward|Community Area|FBI Code|X Coordinate|Y Coordinate|Year|          Updated On|    Latitude|    Longitude|            Location|One|\n",
            "+--------+-----------+----+--------------------+----+-------------+--------------------+--------------------+------+--------+----+--------+----+--------------+--------+------------+------------+----+--------------------+------------+-------------+--------------------+---+\n",
            "|12571973|   JE482457|null|   042XX S MOZART ST|0460|      BATTERY|              SIMPLE|            SIDEWALK|  true|    true|0921|     009|  15|            58|     08B|     1158067|     1876425|2021|09/12/2022 04:45:...| 41.81665685|-87.695688608|(41.81665685, -87...|  1|\n",
            "|12343475|   JE202728|null|   056XX N RIDGE AVE|0820|        THEFT|      $500 AND UNDER|     OTHER (SPECIFY)| false|   false|2013|     020|  48|            77|      06|        null|        null|2021|04/23/2021 04:51:...|        null|         null|                null|  1|\n",
            "|12602803|   JF125633|null|083XX S STONY ISL...|500E|OTHER OFFENSE|       EAVESDROPPING|     OTHER (SPECIFY)| false|   false|0412|     004|   8|            45|      26|     1188260|     1849805|2021|02/27/2022 03:46:...| 41.74294124|-87.585783412|(41.74294124, -87...|  1|\n",
            "|12540388|   JE444591|null|086XX S COTTAGE G...|0850|        THEFT|       ATTEMPT THEFT|   CONVENIENCE STORE| false|   false|0632|     006|   6|            44|      06|     1183071|     1847869|2021|11/21/2021 03:48:...|41.737750767|-87.604855911|(41.737750767, -8...|  1|\n",
            "|12541139|   JE445494|null|     034XX W 38TH ST|0486|      BATTERY|DOMESTIC BATTERY ...|           RESIDENCE| false|    true|0911|     009|  12|            58|     08B|     1154073|     1879187|2021|11/21/2021 03:48:...|41.824316537|-87.710266215|(41.824316537, -8...|  1|\n",
            "+--------+-----------+----+--------------------+----+-------------+--------------------+--------------------+------+--------+----+--------+----+--------------+--------+------------+------------+----+--------------------+------------+-------------+--------------------+---+\n",
            "only showing top 5 rows\n",
            "\n"
          ]
        }
      ]
    },
    {
      "cell_type": "markdown",
      "source": [
        "** Remove the column IUCR **"
      ],
      "metadata": {
        "id": "m2naVzKqrpkg"
      }
    },
    {
      "cell_type": "code",
      "source": [
        "# rc = rc.drop('IUCR')\n",
        "# rc.show(5)"
      ],
      "metadata": {
        "id": "YoW5VeS8rkGa"
      },
      "execution_count": 23,
      "outputs": []
    },
    {
      "cell_type": "markdown",
      "source": [
        "#Working with rows"
      ],
      "metadata": {
        "id": "Um8qEqIuYtyd"
      }
    },
    {
      "cell_type": "code",
      "source": [],
      "metadata": {
        "id": "iq-d0wmiYwKv"
      },
      "execution_count": 23,
      "outputs": []
    },
    {
      "cell_type": "markdown",
      "source": [
        "## Add the reported crimes for an additional day, 12-11-2021, to our dataset."
      ],
      "metadata": {
        "id": "rn3Bk9p8YyaM"
      }
    },
    {
      "cell_type": "code",
      "source": [
        " one_day = spark.read.csv('reported-crimes.csv',header=True).withColumn('Date',to_timestamp(col('Date'),'MM/dd/yyyy hh:mm:ss a')).filter(col('Date') == lit('2021-11-12'))\n",
        " one_day.count()"
      ],
      "metadata": {
        "colab": {
          "base_uri": "https://localhost:8080/"
        },
        "id": "Sw9ZOUdgY5Sv",
        "outputId": "cf762414-8025-4d22-a1b0-7c983e55ae22"
      },
      "execution_count": 78,
      "outputs": [
        {
          "output_type": "execute_result",
          "data": {
            "text/plain": [
              "17"
            ]
          },
          "metadata": {},
          "execution_count": 78
        }
      ]
    },
    {
      "cell_type": "code",
      "source": [],
      "metadata": {
        "id": "zzUYlsORnRhn"
      },
      "execution_count": 25,
      "outputs": []
    },
    {
      "cell_type": "code",
      "source": [
        "orc = rc.union(one_day).orderBy('Date', ascending = False)\n",
        "orc.show(5)"
      ],
      "metadata": {
        "colab": {
          "base_uri": "https://localhost:8080/"
        },
        "id": "b4wCw685Zb4K",
        "outputId": "fde08578-2cf0-4913-d330-e33507d38a94"
      },
      "execution_count": 79,
      "outputs": [
        {
          "output_type": "stream",
          "name": "stdout",
          "text": [
            "+--------+-----------+-------------------+--------------------+----+------------------+--------------------+--------------------+------+--------+----+--------+----+--------------+--------+------------+------------+----+--------------------+------------+-------------+--------------------+\n",
            "|      ID|Case Number|               Date|               Block|IUCR|      Primary Type|         Description|Location Description|Arrest|Domestic|Beat|District|Ward|Community Area|FBI Code|X Coordinate|Y Coordinate|Year|          Updated On|    Latitude|    Longitude|            Location|\n",
            "+--------+-----------+-------------------+--------------------+----+------------------+--------------------+--------------------+------+--------+----+--------+----+--------------+--------+------------+------------+----+--------------------+------------+-------------+--------------------+\n",
            "|12588706|   JF108473|2021-11-12 00:00:00|  097XX S HALSTED ST|1154|DECEPTIVE PRACTICE|FINANCIAL IDENTIT...|     OTHER (SPECIFY)| false|   false|2223|     022|  34|            73|      11|        null|        null|2021|01/11/2022 03:47:...|        null|         null|                null|\n",
            "|12563128|   JE471529|2021-11-12 00:00:00|063XX N LAKEWOOD AVE|1156|DECEPTIVE PRACTICE|ATTEMPT - FINANCI...|           RESIDENCE| false|   false|2433|     024|  48|            77|      11|     1166467|     1942239|2021|12/14/2021 03:46:...|41.997079586| -87.66298866|(41.997079586, -8...|\n",
            "|12573690|   JE484741|2021-11-12 00:00:00| 046XX N KENMORE AVE|1120|DECEPTIVE PRACTICE|             FORGERY|           RESIDENCE| false|   false|1914|     019|  46|             3|      10|     1168402|     1931046|2021|12/23/2021 03:45:...|41.966323927|-87.656196115|(41.966323927, -8...|\n",
            "|12554348|   JE461427|2021-11-12 00:00:00|021XX W LEXINGTON ST|0560|           ASSAULT|              SIMPLE|POLICE FACILITY /...| false|   false|1225|     012|  28|            28|     08A|     1162296|     1896746|2021|12/02/2021 03:50:...|41.872332627|-87.679608149|(41.872332627, -8...|\n",
            "|12562474|   JE471294|2021-11-12 00:00:00|  061XX N LEGETT AVE|1120|DECEPTIVE PRACTICE|             FORGERY|           RESIDENCE| false|   false|1621|     016|  39|            12|      10|     1141560|     1940423|2021|12/11/2021 03:48:...|41.992594838|-87.754657454|(41.992594838, -8...|\n",
            "+--------+-----------+-------------------+--------------------+----+------------------+--------------------+--------------------+------+--------+----+--------+----+--------------+--------+------------+------------+----+--------------------+------------+-------------+--------------------+\n",
            "only showing top 5 rows\n",
            "\n"
          ]
        }
      ]
    },
    {
      "cell_type": "markdown",
      "source": [
        "## What are the top 10 number of reported crimes by Primary type, in descendng order of occurence?"
      ],
      "metadata": {
        "id": "9mEs2y5mc5Na"
      }
    },
    {
      "cell_type": "code",
      "source": [
        "orc.groupby('Primary Type').count().orderBy('count',ascending = False).show(5)"
      ],
      "metadata": {
        "colab": {
          "base_uri": "https://localhost:8080/"
        },
        "id": "V_rkUStkc_vb",
        "outputId": "aa3f364b-f357-4d49-8d04-4fed5c12f14c"
      },
      "execution_count": 80,
      "outputs": [
        {
          "output_type": "stream",
          "name": "stdout",
          "text": [
            "+------------------+-----+\n",
            "|      Primary Type|count|\n",
            "+------------------+-----+\n",
            "|           BATTERY|35273|\n",
            "|             THEFT|34442|\n",
            "|   CRIMINAL DAMAGE|21797|\n",
            "|           ASSAULT|17727|\n",
            "|DECEPTIVE PRACTICE|15236|\n",
            "+------------------+-----+\n",
            "only showing top 5 rows\n",
            "\n"
          ]
        }
      ]
    },
    {
      "cell_type": "markdown",
      "source": [
        "## Find the percentage of reported crimes that resulted in an arrest"
      ],
      "metadata": {
        "id": "swP203Mfdgld"
      }
    },
    {
      "cell_type": "code",
      "source": [
        "orc.select('Arrest').distinct().show()"
      ],
      "metadata": {
        "colab": {
          "base_uri": "https://localhost:8080/"
        },
        "id": "dqXA-uV_e74q",
        "outputId": "d8292704-0b81-4b5b-de62-57a614e8701d"
      },
      "execution_count": 81,
      "outputs": [
        {
          "output_type": "stream",
          "name": "stdout",
          "text": [
            "+------+\n",
            "|Arrest|\n",
            "+------+\n",
            "| false|\n",
            "|  true|\n",
            "+------+\n",
            "\n"
          ]
        }
      ]
    },
    {
      "cell_type": "code",
      "source": [
        "orc.filter(col('Arrest') == True).count() / orc.select('Arrest').count()"
      ],
      "metadata": {
        "colab": {
          "base_uri": "https://localhost:8080/"
        },
        "id": "_1XRlj09fF1f",
        "outputId": "48661a60-29d1-4e2f-ab06-02d8dc04650b"
      },
      "execution_count": 82,
      "outputs": [
        {
          "output_type": "execute_result",
          "data": {
            "text/plain": [
              "0.12816466247304897"
            ]
          },
          "metadata": {},
          "execution_count": 82
        }
      ]
    },
    {
      "cell_type": "markdown",
      "source": [
        "## Find the top 3 locations for reported crimes."
      ],
      "metadata": {
        "id": "EsAI49D3eSlM"
      }
    },
    {
      "cell_type": "code",
      "source": [
        "orc.groupby('Location Description').count().orderBy('count', ascending = False).show(3)"
      ],
      "metadata": {
        "colab": {
          "base_uri": "https://localhost:8080/"
        },
        "id": "qisZq8rWeW98",
        "outputId": "5416cf01-db9e-453f-c511-530b8be53f00"
      },
      "execution_count": 83,
      "outputs": [
        {
          "output_type": "stream",
          "name": "stdout",
          "text": [
            "+--------------------+-----+\n",
            "|Location Description|count|\n",
            "+--------------------+-----+\n",
            "|              STREET|45111|\n",
            "|           APARTMENT|38503|\n",
            "|           RESIDENCE|28182|\n",
            "+--------------------+-----+\n",
            "only showing top 3 rows\n",
            "\n"
          ]
        }
      ]
    },
    {
      "cell_type": "markdown",
      "source": [
        "## Built-in functions\n"
      ],
      "metadata": {
        "id": "zvPcx0aygDqo"
      }
    },
    {
      "cell_type": "code",
      "source": [
        "from pyspark.sql import functions"
      ],
      "metadata": {
        "id": "mthZ5-jAgG3G"
      },
      "execution_count": 32,
      "outputs": []
    },
    {
      "cell_type": "code",
      "source": [
        "print(dir(functions))"
      ],
      "metadata": {
        "colab": {
          "base_uri": "https://localhost:8080/"
        },
        "id": "fikYJsKZgLbA",
        "outputId": "980633c7-3222-4b6c-d373-557763da050c"
      },
      "execution_count": 33,
      "outputs": [
        {
          "output_type": "stream",
          "name": "stdout",
          "text": [
            "['Any', 'ArrayType', 'Callable', 'Column', 'DataFrame', 'DataType', 'Dict', 'Iterable', 'List', 'Optional', 'PandasUDFType', 'PythonEvalType', 'SparkContext', 'StringType', 'StructType', 'TYPE_CHECKING', 'Tuple', 'Union', 'UserDefinedFunction', 'ValuesView', '__builtins__', '__cached__', '__doc__', '__file__', '__loader__', '__name__', '__package__', '__spec__', '_create_column_from_literal', '_create_lambda', '_create_udf', '_get_jvm_function', '_get_lambda_parameters', '_invoke_binary_math_function', '_invoke_function', '_invoke_function_over_columns', '_invoke_function_over_seq_of_columns', '_invoke_higher_order_function', '_options_to_str', '_test', '_to_java_column', '_to_seq', '_unresolved_named_lambda_variable', 'abs', 'acos', 'acosh', 'add_months', 'aggregate', 'approxCountDistinct', 'approx_count_distinct', 'array', 'array_contains', 'array_distinct', 'array_except', 'array_intersect', 'array_join', 'array_max', 'array_min', 'array_position', 'array_remove', 'array_repeat', 'array_sort', 'array_union', 'arrays_overlap', 'arrays_zip', 'asc', 'asc_nulls_first', 'asc_nulls_last', 'ascii', 'asin', 'asinh', 'assert_true', 'atan', 'atan2', 'atanh', 'avg', 'base64', 'bin', 'bit_length', 'bitwiseNOT', 'bitwise_not', 'broadcast', 'bround', 'bucket', 'cast', 'cbrt', 'ceil', 'coalesce', 'col', 'collect_list', 'collect_set', 'column', 'concat', 'concat_ws', 'conv', 'corr', 'cos', 'cosh', 'cot', 'count', 'countDistinct', 'count_distinct', 'covar_pop', 'covar_samp', 'crc32', 'create_map', 'csc', 'cume_dist', 'current_date', 'current_timestamp', 'date_add', 'date_format', 'date_sub', 'date_trunc', 'datediff', 'dayofmonth', 'dayofweek', 'dayofyear', 'days', 'decode', 'degrees', 'dense_rank', 'desc', 'desc_nulls_first', 'desc_nulls_last', 'element_at', 'encode', 'exists', 'exp', 'explode', 'explode_outer', 'expm1', 'expr', 'factorial', 'filter', 'first', 'flatten', 'floor', 'forall', 'format_number', 'format_string', 'from_csv', 'from_json', 'from_unixtime', 'from_utc_timestamp', 'functools', 'get_json_object', 'greatest', 'grouping', 'grouping_id', 'hash', 'hex', 'hour', 'hours', 'hypot', 'initcap', 'input_file_name', 'inspect', 'instr', 'isnan', 'isnull', 'json_tuple', 'kurtosis', 'lag', 'last', 'last_day', 'lead', 'least', 'length', 'levenshtein', 'lit', 'locate', 'log', 'log10', 'log1p', 'log2', 'lower', 'lpad', 'ltrim', 'make_date', 'map_concat', 'map_entries', 'map_filter', 'map_from_arrays', 'map_from_entries', 'map_keys', 'map_values', 'map_zip_with', 'max', 'max_by', 'md5', 'mean', 'min', 'min_by', 'minute', 'monotonically_increasing_id', 'month', 'months', 'months_between', 'nanvl', 'next_day', 'nth_value', 'ntile', 'octet_length', 'overlay', 'overload', 'pandas_udf', 'percent_rank', 'percentile_approx', 'posexplode', 'posexplode_outer', 'pow', 'product', 'quarter', 'radians', 'raise_error', 'rand', 'randn', 'rank', 'regexp_extract', 'regexp_replace', 'repeat', 'reverse', 'rint', 'round', 'row_number', 'rpad', 'rtrim', 'schema_of_csv', 'schema_of_json', 'sec', 'second', 'sentences', 'sequence', 'session_window', 'sha1', 'sha2', 'shiftLeft', 'shiftRight', 'shiftRightUnsigned', 'shiftleft', 'shiftright', 'shiftrightunsigned', 'shuffle', 'signum', 'sin', 'since', 'sinh', 'size', 'skewness', 'slice', 'sort_array', 'soundex', 'spark_partition_id', 'split', 'sqrt', 'stddev', 'stddev_pop', 'stddev_samp', 'struct', 'substring', 'substring_index', 'sum', 'sumDistinct', 'sum_distinct', 'sys', 'tan', 'tanh', 'timestamp_seconds', 'toDegrees', 'toRadians', 'to_csv', 'to_date', 'to_json', 'to_str', 'to_timestamp', 'to_utc_timestamp', 'transform', 'transform_keys', 'transform_values', 'translate', 'trim', 'trunc', 'udf', 'unbase64', 'unhex', 'unix_timestamp', 'upper', 'var_pop', 'var_samp', 'variance', 'warnings', 'weekofyear', 'when', 'window', 'xxhash64', 'year', 'years', 'zip_with']\n"
          ]
        }
      ]
    },
    {
      "cell_type": "markdown",
      "source": [
        "## String functions"
      ],
      "metadata": {
        "id": "ttbVDhG6gcYf"
      }
    },
    {
      "cell_type": "markdown",
      "source": [
        "### Display the Primary Type column in lower and upper characters, and the first 4 characters of the column"
      ],
      "metadata": {
        "id": "---4EtuwghQ7"
      }
    },
    {
      "cell_type": "code",
      "source": [
        "from pyspark.sql.functions import lower, upper, substring"
      ],
      "metadata": {
        "id": "dV19mCfNgrFK"
      },
      "execution_count": 34,
      "outputs": []
    },
    {
      "cell_type": "code",
      "source": [
        "help(substring)"
      ],
      "metadata": {
        "colab": {
          "base_uri": "https://localhost:8080/"
        },
        "id": "XQXWNQUkgxlY",
        "outputId": "ef732d04-a703-4ba2-8cec-9b1dd7c45c75"
      },
      "execution_count": 35,
      "outputs": [
        {
          "output_type": "stream",
          "name": "stdout",
          "text": [
            "Help on function substring in module pyspark.sql.functions:\n",
            "\n",
            "substring(str: 'ColumnOrName', pos: int, len: int) -> pyspark.sql.column.Column\n",
            "    Substring starts at `pos` and is of length `len` when str is String type or\n",
            "    returns the slice of byte array that starts at `pos` in byte and is of length `len`\n",
            "    when str is Binary type.\n",
            "    \n",
            "    .. versionadded:: 1.5.0\n",
            "    \n",
            "    Notes\n",
            "    -----\n",
            "    The position is not zero based, but 1 based index.\n",
            "    \n",
            "    Examples\n",
            "    --------\n",
            "    >>> df = spark.createDataFrame([('abcd',)], ['s',])\n",
            "    >>> df.select(substring(df.s, 1, 2).alias('s')).collect()\n",
            "    [Row(s='ab')]\n",
            "\n"
          ]
        }
      ]
    },
    {
      "cell_type": "code",
      "source": [
        "orc.select(lower(col('Primary Type')),upper(col('Primary Type')), substring(col('Primary Type'),1,4)).show(5)"
      ],
      "metadata": {
        "colab": {
          "base_uri": "https://localhost:8080/"
        },
        "id": "PvD-KA5mg7ZT",
        "outputId": "a4636014-f201-417d-a2fb-9acb37becf3a"
      },
      "execution_count": 84,
      "outputs": [
        {
          "output_type": "stream",
          "name": "stdout",
          "text": [
            "+-------------------+-------------------+-----------------------------+\n",
            "|lower(Primary Type)|upper(Primary Type)|substring(Primary Type, 1, 4)|\n",
            "+-------------------+-------------------+-----------------------------+\n",
            "| deceptive practice| DECEPTIVE PRACTICE|                         DECE|\n",
            "| deceptive practice| DECEPTIVE PRACTICE|                         DECE|\n",
            "| deceptive practice| DECEPTIVE PRACTICE|                         DECE|\n",
            "|            assault|            ASSAULT|                         ASSA|\n",
            "| deceptive practice| DECEPTIVE PRACTICE|                         DECE|\n",
            "+-------------------+-------------------+-----------------------------+\n",
            "only showing top 5 rows\n",
            "\n"
          ]
        }
      ]
    },
    {
      "cell_type": "markdown",
      "source": [
        "## Numeric functions"
      ],
      "metadata": {
        "id": "IlgzlCwChfdw"
      }
    },
    {
      "cell_type": "markdown",
      "source": [
        "### show the oldest date and the most recent date"
      ],
      "metadata": {
        "id": "WFocBgzahkiA"
      }
    },
    {
      "cell_type": "code",
      "source": [
        "from pyspark.sql.functions import min,max"
      ],
      "metadata": {
        "id": "Xzcvfwq5hZm7"
      },
      "execution_count": 37,
      "outputs": []
    },
    {
      "cell_type": "code",
      "source": [
        "orc.select(min(col('Date')),max(col('Date'))).show()"
      ],
      "metadata": {
        "colab": {
          "base_uri": "https://localhost:8080/"
        },
        "id": "C80uqVjjhuWG",
        "outputId": "d22ec94a-42de-4b49-cb9f-553cb66b0947"
      },
      "execution_count": 87,
      "outputs": [
        {
          "output_type": "stream",
          "name": "stdout",
          "text": [
            "+-------------------+-------------------+\n",
            "|          min(Date)|          max(Date)|\n",
            "+-------------------+-------------------+\n",
            "|2021-01-01 00:00:00|2021-11-12 00:00:00|\n",
            "+-------------------+-------------------+\n",
            "\n"
          ]
        }
      ]
    },
    {
      "cell_type": "markdown",
      "source": [
        "## Date"
      ],
      "metadata": {
        "id": "n1pRNdCoh7t1"
      }
    },
    {
      "cell_type": "markdown",
      "source": [
        "What is 3 days earlier than the oldest date and 3 days later than the most recent date?"
      ],
      "metadata": {
        "id": "OXqUpFzTh9hZ"
      }
    },
    {
      "cell_type": "code",
      "source": [
        "from pyspark.sql.functions import date_add, date_sub"
      ],
      "metadata": {
        "id": "yY_mL6Voh20l"
      },
      "execution_count": 39,
      "outputs": []
    },
    {
      "cell_type": "code",
      "source": [
        "help(date_add)"
      ],
      "metadata": {
        "colab": {
          "base_uri": "https://localhost:8080/"
        },
        "id": "3O-rtf2xiGmA",
        "outputId": "67ee5a2a-2302-4c11-ca11-3bab79132cba"
      },
      "execution_count": 40,
      "outputs": [
        {
          "output_type": "stream",
          "name": "stdout",
          "text": [
            "Help on function date_add in module pyspark.sql.functions:\n",
            "\n",
            "date_add(start: 'ColumnOrName', days: Union[ForwardRef('ColumnOrName'), int]) -> pyspark.sql.column.Column\n",
            "    Returns the date that is `days` days after `start`\n",
            "    \n",
            "    .. versionadded:: 1.5.0\n",
            "    \n",
            "    Examples\n",
            "    --------\n",
            "    >>> df = spark.createDataFrame([('2015-04-08', 2,)], ['dt', 'add'])\n",
            "    >>> df.select(date_add(df.dt, 1).alias('next_date')).collect()\n",
            "    [Row(next_date=datetime.date(2015, 4, 9))]\n",
            "    >>> df.select(date_add(df.dt, df.add.cast('integer')).alias('next_date')).collect()\n",
            "    [Row(next_date=datetime.date(2015, 4, 10))]\n",
            "\n"
          ]
        }
      ]
    },
    {
      "cell_type": "markdown",
      "source": [
        "# Working with dates"
      ],
      "metadata": {
        "id": "BKNvl-tNimgX"
      }
    },
    {
      "cell_type": "code",
      "source": [
        "from pyspark.sql.functions import to_date, to_timestamp, lit"
      ],
      "metadata": {
        "id": "FS008SJhk7Fk"
      },
      "execution_count": 41,
      "outputs": []
    },
    {
      "cell_type": "code",
      "source": [
        "rc.select(to_date(lit('2021-12-25')),to_date(lit('2019-25-15'))).show(1)"
      ],
      "metadata": {
        "colab": {
          "base_uri": "https://localhost:8080/"
        },
        "id": "DMrKnLzrlHVj",
        "outputId": "cbb04825-73c2-4225-e993-67e68e57882c"
      },
      "execution_count": 42,
      "outputs": [
        {
          "output_type": "stream",
          "name": "stdout",
          "text": [
            "+-------------------+-------------------+\n",
            "|to_date(2021-12-25)|to_date(2019-25-15)|\n",
            "+-------------------+-------------------+\n",
            "|         2021-12-25|               null|\n",
            "+-------------------+-------------------+\n",
            "only showing top 1 row\n",
            "\n"
          ]
        }
      ]
    },
    {
      "cell_type": "markdown",
      "source": [
        "2019-12-25 13:30:00"
      ],
      "metadata": {
        "id": "9LICov0Wl7KL"
      }
    },
    {
      "cell_type": "code",
      "source": [
        "df = spark.createDataFrame([('2019-12-25 13:30:00',)], ['Christmas'])\n",
        "df.show(1)"
      ],
      "metadata": {
        "colab": {
          "base_uri": "https://localhost:8080/"
        },
        "id": "UqtvNX3YlhvO",
        "outputId": "54a14f7f-5aad-47c0-8f56-feb72a4d8ebd"
      },
      "execution_count": 43,
      "outputs": [
        {
          "output_type": "stream",
          "name": "stdout",
          "text": [
            "+-------------------+\n",
            "|          Christmas|\n",
            "+-------------------+\n",
            "|2019-12-25 13:30:00|\n",
            "+-------------------+\n",
            "\n"
          ]
        }
      ]
    },
    {
      "cell_type": "code",
      "source": [
        "df.select(to_date(col('Christmas'), 'yyyy-MM-dd HH:mm:ss'), to_timestamp(col('Christmas'), 'yyyy-MM-dd HH:mm:ss')).show(1)"
      ],
      "metadata": {
        "colab": {
          "base_uri": "https://localhost:8080/"
        },
        "id": "naDE6VyOlyfe",
        "outputId": "0e6c2a17-ed02-4088-dc07-243d94372916"
      },
      "execution_count": 44,
      "outputs": [
        {
          "output_type": "stream",
          "name": "stdout",
          "text": [
            "+---------------------------------------+--------------------------------------------+\n",
            "|to_date(Christmas, yyyy-MM-dd HH:mm:ss)|to_timestamp(Christmas, yyyy-MM-dd HH:mm:ss)|\n",
            "+---------------------------------------+--------------------------------------------+\n",
            "|                             2019-12-25|                         2019-12-25 13:30:00|\n",
            "+---------------------------------------+--------------------------------------------+\n",
            "\n"
          ]
        }
      ]
    },
    {
      "cell_type": "markdown",
      "source": [
        "25/Dec/2019 13:30:00"
      ],
      "metadata": {
        "id": "2bH-0R8dmbvd"
      }
    },
    {
      "cell_type": "code",
      "source": [
        "df = spark.createDataFrame([('25/Dec/2019 13:30:00',)], ['Christmas'])\n",
        "df.show(1)"
      ],
      "metadata": {
        "colab": {
          "base_uri": "https://localhost:8080/"
        },
        "id": "52BtqP0HmQMc",
        "outputId": "169b5112-c3c2-4508-9df4-9c5596ace793"
      },
      "execution_count": 45,
      "outputs": [
        {
          "output_type": "stream",
          "name": "stdout",
          "text": [
            "+--------------------+\n",
            "|           Christmas|\n",
            "+--------------------+\n",
            "|25/Dec/2019 13:30:00|\n",
            "+--------------------+\n",
            "\n"
          ]
        }
      ]
    },
    {
      "cell_type": "code",
      "source": [
        "df.select(to_date(col('Christmas'), 'dd/MMM/yyyy HH:mm:ss'), to_timestamp(col('Christmas'), 'dd/MMM/yyyy HH:mm:ss')).show(1)"
      ],
      "metadata": {
        "colab": {
          "base_uri": "https://localhost:8080/"
        },
        "id": "SpS3xn_LnL2L",
        "outputId": "c6c0a0c0-be7f-4b0b-951c-8b55abf7800a"
      },
      "execution_count": 46,
      "outputs": [
        {
          "output_type": "stream",
          "name": "stdout",
          "text": [
            "+----------------------------------------+---------------------------------------------+\n",
            "|to_date(Christmas, dd/MMM/yyyy HH:mm:ss)|to_timestamp(Christmas, dd/MMM/yyyy HH:mm:ss)|\n",
            "+----------------------------------------+---------------------------------------------+\n",
            "|                              2019-12-25|                          2019-12-25 13:30:00|\n",
            "+----------------------------------------+---------------------------------------------+\n",
            "\n"
          ]
        }
      ]
    },
    {
      "cell_type": "code",
      "source": [
        "nrc = spark.read.csv('reported-crimes.csv',header=True)\n",
        "nrc.show(5, truncate=False)"
      ],
      "metadata": {
        "colab": {
          "base_uri": "https://localhost:8080/"
        },
        "id": "cRJT0zSBnhWi",
        "outputId": "19524e09-6a85-4e3e-90c1-c6e4759678a1"
      },
      "execution_count": 47,
      "outputs": [
        {
          "output_type": "stream",
          "name": "stdout",
          "text": [
            "+--------+-----------+----------------------+-------------------------+----+-------------+-----------------------+--------------------+------+--------+----+--------+----+--------------+--------+------------+------------+----+----------------------+------------+-------------+-----------------------------+\n",
            "|ID      |Case Number|Date                  |Block                    |IUCR|Primary Type |Description            |Location Description|Arrest|Domestic|Beat|District|Ward|Community Area|FBI Code|X Coordinate|Y Coordinate|Year|Updated On            |Latitude    |Longitude    |Location                     |\n",
            "+--------+-----------+----------------------+-------------------------+----+-------------+-----------------------+--------------------+------+--------+----+--------+----+--------------+--------+------------+------------+----+----------------------+------------+-------------+-----------------------------+\n",
            "|12571973|JE482457   |12/19/2021 07:23:00 AM|042XX S MOZART ST        |0460|BATTERY      |SIMPLE                 |SIDEWALK            |true  |true    |0921|009     |15  |58            |08B     |1158067     |1876425     |2021|09/12/2022 04:45:45 PM|41.81665685 |-87.695688608|(41.81665685, -87.695688608) |\n",
            "|12343475|JE202728   |04/16/2021 08:45:00 PM|056XX N RIDGE AVE        |0820|THEFT        |$500 AND UNDER         |OTHER (SPECIFY)     |false |false   |2013|020     |48  |77            |06      |null        |null        |2021|04/23/2021 04:51:47 PM|null        |null         |null                         |\n",
            "|12602803|JF125633   |10/21/2021 11:00:00 AM|083XX S STONY ISLAND AVE |500E|OTHER OFFENSE|EAVESDROPPING          |OTHER (SPECIFY)     |false |false   |0412|004     |8   |45            |26      |1188260     |1849805     |2021|02/27/2022 03:46:31 PM|41.74294124 |-87.585783412|(41.74294124, -87.585783412) |\n",
            "|12540388|JE444591   |11/14/2021 06:00:00 AM|086XX S COTTAGE GROVE AVE|0850|THEFT        |ATTEMPT THEFT          |CONVENIENCE STORE   |false |false   |0632|006     |6   |44            |06      |1183071     |1847869     |2021|11/21/2021 03:48:03 PM|41.737750767|-87.604855911|(41.737750767, -87.604855911)|\n",
            "|12541139|JE445494   |11/14/2021 04:00:00 AM|034XX W 38TH ST          |0486|BATTERY      |DOMESTIC BATTERY SIMPLE|RESIDENCE           |false |true    |0911|009     |12  |58            |08B     |1154073     |1879187     |2021|11/21/2021 03:48:03 PM|41.824316537|-87.710266215|(41.824316537, -87.710266215)|\n",
            "+--------+-----------+----------------------+-------------------------+----+-------------+-----------------------+--------------------+------+--------+----+--------+----+--------------+--------+------------+------------+----+----------------------+------------+-------------+-----------------------------+\n",
            "only showing top 5 rows\n",
            "\n"
          ]
        }
      ]
    },
    {
      "cell_type": "markdown",
      "source": [
        "# Working with joins"
      ],
      "metadata": {
        "id": "RrXtxZpItVB5"
      }
    },
    {
      "cell_type": "markdown",
      "source": [
        "### Joins"
      ],
      "metadata": {
        "id": "HykuX6_UuhMx"
      }
    },
    {
      "cell_type": "markdown",
      "source": [
        "Download police station data"
      ],
      "metadata": {
        "id": "ebJaPMtiukF6"
      }
    },
    {
      "cell_type": "code",
      "source": [
        "!wget -O police-station.csv https://data.cityofchicago.org/api/views/z8bn-74gv/rows.csv?accessType=DOWNLOAD\n",
        "!ls -1"
      ],
      "metadata": {
        "colab": {
          "base_uri": "https://localhost:8080/"
        },
        "id": "Y-nu4QIZursA",
        "outputId": "0747776f-2501-4ebc-ef8f-adc2120bdbdb"
      },
      "execution_count": 48,
      "outputs": [
        {
          "output_type": "stream",
          "name": "stdout",
          "text": [
            "--2023-02-11 18:03:14--  https://data.cityofchicago.org/api/views/z8bn-74gv/rows.csv?accessType=DOWNLOAD\n",
            "Resolving data.cityofchicago.org (data.cityofchicago.org)... 52.206.68.26, 52.206.140.199, 52.206.140.205\n",
            "Connecting to data.cityofchicago.org (data.cityofchicago.org)|52.206.68.26|:443... connected.\n",
            "HTTP request sent, awaiting response... 200 OK\n",
            "Length: unspecified [text/csv]\n",
            "Saving to: ‘police-station.csv’\n",
            "\n",
            "police-station.csv      [ <=>                ]   5.57K  --.-KB/s    in 0s      \n",
            "\n",
            "2023-02-11 18:03:14 (680 MB/s) - ‘police-station.csv’ saved [5699]\n",
            "\n",
            "police-station.csv\n",
            "reported-crimes.csv\n",
            "'rows.csv?accessType=DOWNLOAD.1'\n",
            "sample_data\n",
            "spark-2.3.1-bin-hadoop2.7\n",
            "spark-2.3.1-bin-hadoop2.7.tgz\n",
            "spark-2.3.1-bin-hadoop2.7.tgz.1\n",
            "spark-2.3.1-bin-hadoop2.7.tgz.2\n"
          ]
        }
      ]
    },
    {
      "cell_type": "code",
      "source": [
        "ps = spark.read.csv('police-station.csv', header=True)\n",
        "ps.show(5)"
      ],
      "metadata": {
        "colab": {
          "base_uri": "https://localhost:8080/"
        },
        "id": "DVjwaa0bvTYs",
        "outputId": "78f5c9f1-c77c-42ad-88de-b9581d2ab047"
      },
      "execution_count": 49,
      "outputs": [
        {
          "output_type": "stream",
          "name": "stdout",
          "text": [
            "+------------+-------------+-------------------+-------+-----+-----+--------------------+------------+------------+------------+------------+------------+-----------+------------+--------------------+\n",
            "|    DISTRICT|DISTRICT NAME|            ADDRESS|   CITY|STATE|  ZIP|             WEBSITE|       PHONE|         FAX|         TTY|X COORDINATE|Y COORDINATE|   LATITUDE|   LONGITUDE|            LOCATION|\n",
            "+------------+-------------+-------------------+-------+-----+-----+--------------------+------------+------------+------------+------------+------------+-----------+------------+--------------------+\n",
            "|Headquarters| Headquarters|3510 S Michigan Ave|Chicago|   IL|60653|http://home.chica...|        null|        null|        null| 1177731.401| 1881697.404|41.83070169|-87.62339535|(41.8307016873, -...|\n",
            "|          18|   Near North| 1160 N Larrabee St|Chicago|   IL|60610|http://home.chica...|312-742-5870|312-742-5771|312-742-5773| 1172080.029| 1908086.527|41.90324165|-87.64335214|(41.9032416531, -...|\n",
            "|          19|    Town Hall|   850 W Addison St|Chicago|   IL|60613|http://home.chica...|312-744-8320|312-744-4481|312-744-8011| 1169730.744| 1924160.317|41.94740046|-87.65151202|(41.9474004564, -...|\n",
            "|          20|      Lincoln| 5400 N Lincoln Ave|Chicago|   IL|60625|http://home.chica...|312-742-8714|312-742-8803|312-742-8841| 1158399.146| 1935788.826|41.97954951|-87.69284451|(41.9795495131, -...|\n",
            "|          22|  Morgan Park|1900 W Monterey Ave|Chicago|   IL|60643|http://home.chica...|312-745-0710|312-745-0814|312-745-0569| 1165825.476| 1830851.333|41.69143478|-87.66852039|(41.6914347795, -...|\n",
            "+------------+-------------+-------------------+-------+-----+-----+--------------------+------------+------------+------------+------------+------------+-----------+------------+--------------------+\n",
            "only showing top 5 rows\n",
            "\n"
          ]
        }
      ]
    },
    {
      "cell_type": "markdown",
      "source": [
        "### The reported crimes dataset had only the district number. We should add the district name by joining with the police station dataset"
      ],
      "metadata": {
        "id": "wnh-ULpowEmo"
      }
    },
    {
      "cell_type": "code",
      "source": [
        "rc.cache()\n",
        "rc.count()"
      ],
      "metadata": {
        "colab": {
          "base_uri": "https://localhost:8080/"
        },
        "id": "IOWGY6UUwArs",
        "outputId": "93077efe-7783-41c5-9513-da02e20bd4ff"
      },
      "execution_count": 94,
      "outputs": [
        {
          "output_type": "execute_result",
          "data": {
            "text/plain": [
              "179939"
            ]
          },
          "metadata": {},
          "execution_count": 94
        }
      ]
    },
    {
      "cell_type": "code",
      "source": [
        "ps.select(col('DISTRICT')).distinct().show(10)"
      ],
      "metadata": {
        "colab": {
          "base_uri": "https://localhost:8080/"
        },
        "id": "Ykpa8inDwXoO",
        "outputId": "95bfa866-7bc7-45f3-a3f9-9adbf21491a5"
      },
      "execution_count": 51,
      "outputs": [
        {
          "output_type": "stream",
          "name": "stdout",
          "text": [
            "+--------+\n",
            "|DISTRICT|\n",
            "+--------+\n",
            "|       7|\n",
            "|      15|\n",
            "|      11|\n",
            "|       3|\n",
            "|       8|\n",
            "|      22|\n",
            "|      16|\n",
            "|       5|\n",
            "|      18|\n",
            "|      17|\n",
            "+--------+\n",
            "only showing top 10 rows\n",
            "\n"
          ]
        }
      ]
    },
    {
      "cell_type": "code",
      "source": [
        "rc.select('District').distinct().show(10)"
      ],
      "metadata": {
        "colab": {
          "base_uri": "https://localhost:8080/"
        },
        "id": "PYwkGledwgOI",
        "outputId": "9654ba85-db8f-48b4-9178-4566711d0539"
      },
      "execution_count": 96,
      "outputs": [
        {
          "output_type": "stream",
          "name": "stdout",
          "text": [
            "+--------+\n",
            "|District|\n",
            "+--------+\n",
            "|     009|\n",
            "|     012|\n",
            "|     024|\n",
            "|     031|\n",
            "|     015|\n",
            "|     006|\n",
            "|     019|\n",
            "|     020|\n",
            "|     011|\n",
            "|     025|\n",
            "+--------+\n",
            "only showing top 10 rows\n",
            "\n"
          ]
        }
      ]
    },
    {
      "cell_type": "markdown",
      "source": [
        "### We should match the format of the key data to perform Join"
      ],
      "metadata": {
        "id": "t6TMuYntxBav"
      }
    },
    {
      "cell_type": "code",
      "source": [
        "from pyspark.sql.functions import lpad"
      ],
      "metadata": {
        "id": "KRPS24v3wpSN"
      },
      "execution_count": 53,
      "outputs": []
    },
    {
      "cell_type": "code",
      "source": [
        "help(lpad)"
      ],
      "metadata": {
        "colab": {
          "base_uri": "https://localhost:8080/"
        },
        "id": "OmivGo5vw5kO",
        "outputId": "f1cda05a-031e-40f4-be02-95147f04bdb5"
      },
      "execution_count": 54,
      "outputs": [
        {
          "output_type": "stream",
          "name": "stdout",
          "text": [
            "Help on function lpad in module pyspark.sql.functions:\n",
            "\n",
            "lpad(col: 'ColumnOrName', len: int, pad: str) -> pyspark.sql.column.Column\n",
            "    Left-pad the string column to width `len` with `pad`.\n",
            "    \n",
            "    .. versionadded:: 1.5.0\n",
            "    \n",
            "    Examples\n",
            "    --------\n",
            "    >>> df = spark.createDataFrame([('abcd',)], ['s',])\n",
            "    >>> df.select(lpad(df.s, 6, '#').alias('s')).collect()\n",
            "    [Row(s='##abcd')]\n",
            "\n"
          ]
        }
      ]
    },
    {
      "cell_type": "markdown",
      "source": [
        "ps.select(lpad(col(\"DISTRICT),3,'0')).show(5)"
      ],
      "metadata": {
        "id": "pgxw0BdzwsSL"
      }
    },
    {
      "cell_type": "code",
      "source": [
        "ps.select(lpad(col(\"DISTRICT\"),3,'0')).show(5)"
      ],
      "metadata": {
        "colab": {
          "base_uri": "https://localhost:8080/"
        },
        "id": "nNNs5n81xb0S",
        "outputId": "0086de62-7a8f-4e9a-bbd8-2c058d55abaa"
      },
      "execution_count": 55,
      "outputs": [
        {
          "output_type": "stream",
          "name": "stdout",
          "text": [
            "+--------------------+\n",
            "|lpad(DISTRICT, 3, 0)|\n",
            "+--------------------+\n",
            "|                 Hea|\n",
            "|                 018|\n",
            "|                 019|\n",
            "|                 020|\n",
            "|                 022|\n",
            "+--------------------+\n",
            "only showing top 5 rows\n",
            "\n"
          ]
        }
      ]
    },
    {
      "cell_type": "code",
      "source": [
        "ps = ps.withColumn('Format_district', lpad(col(\"DISTRICT\"),3,'0'))\n",
        "ps.show(5)"
      ],
      "metadata": {
        "colab": {
          "base_uri": "https://localhost:8080/"
        },
        "id": "cGC7igAWxfQC",
        "outputId": "1bd27a42-b80a-494a-a3c2-35e024346207"
      },
      "execution_count": 56,
      "outputs": [
        {
          "output_type": "stream",
          "name": "stdout",
          "text": [
            "+------------+-------------+-------------------+-------+-----+-----+--------------------+------------+------------+------------+------------+------------+-----------+------------+--------------------+---------------+\n",
            "|    DISTRICT|DISTRICT NAME|            ADDRESS|   CITY|STATE|  ZIP|             WEBSITE|       PHONE|         FAX|         TTY|X COORDINATE|Y COORDINATE|   LATITUDE|   LONGITUDE|            LOCATION|Format_district|\n",
            "+------------+-------------+-------------------+-------+-----+-----+--------------------+------------+------------+------------+------------+------------+-----------+------------+--------------------+---------------+\n",
            "|Headquarters| Headquarters|3510 S Michigan Ave|Chicago|   IL|60653|http://home.chica...|        null|        null|        null| 1177731.401| 1881697.404|41.83070169|-87.62339535|(41.8307016873, -...|            Hea|\n",
            "|          18|   Near North| 1160 N Larrabee St|Chicago|   IL|60610|http://home.chica...|312-742-5870|312-742-5771|312-742-5773| 1172080.029| 1908086.527|41.90324165|-87.64335214|(41.9032416531, -...|            018|\n",
            "|          19|    Town Hall|   850 W Addison St|Chicago|   IL|60613|http://home.chica...|312-744-8320|312-744-4481|312-744-8011| 1169730.744| 1924160.317|41.94740046|-87.65151202|(41.9474004564, -...|            019|\n",
            "|          20|      Lincoln| 5400 N Lincoln Ave|Chicago|   IL|60625|http://home.chica...|312-742-8714|312-742-8803|312-742-8841| 1158399.146| 1935788.826|41.97954951|-87.69284451|(41.9795495131, -...|            020|\n",
            "|          22|  Morgan Park|1900 W Monterey Ave|Chicago|   IL|60643|http://home.chica...|312-745-0710|312-745-0814|312-745-0569| 1165825.476| 1830851.333|41.69143478|-87.66852039|(41.6914347795, -...|            022|\n",
            "+------------+-------------+-------------------+-------+-----+-----+--------------------+------------+------------+------------+------------+------------+-----------+------------+--------------------+---------------+\n",
            "only showing top 5 rows\n",
            "\n"
          ]
        }
      ]
    },
    {
      "cell_type": "markdown",
      "source": [
        "### Let's join two dataframe with only columns that we want to check"
      ],
      "metadata": {
        "id": "tvvMtza0ysst"
      }
    },
    {
      "cell_type": "code",
      "source": [
        "rc.join(ps, rc.District == ps.Format_district, 'left_outer').drop(\n",
        "    'ADDRESS',\n",
        " 'CITY',\n",
        " 'STATE',\n",
        " 'ZIP',\n",
        " 'WEBSITE',\n",
        " 'PHONE',\n",
        " 'FAX',\n",
        " 'TTY',\n",
        " 'X COORDINATE',\n",
        " 'Y COORDINATE',\n",
        " 'LATITUDE',\n",
        " 'LONGITUDE',\n",
        " 'LOCATION',\n",
        ").show(3)"
      ],
      "metadata": {
        "colab": {
          "base_uri": "https://localhost:8080/"
        },
        "id": "tzsyBJj9yAxS",
        "outputId": "f45b7e78-43ae-401d-e388-fbccfd01725a"
      },
      "execution_count": 97,
      "outputs": [
        {
          "output_type": "stream",
          "name": "stdout",
          "text": [
            "+--------+-----------+-------------------+--------------------+----+-------------+--------------------+--------------------+------+--------+----+--------+----+--------------+--------+----+--------------------+--------+-------------+---------------+\n",
            "|      ID|Case Number|               Date|               Block|IUCR| Primary Type|         Description|Location Description|Arrest|Domestic|Beat|District|Ward|Community Area|FBI Code|Year|          Updated On|DISTRICT|DISTRICT NAME|Format_district|\n",
            "+--------+-----------+-------------------+--------------------+----+-------------+--------------------+--------------------+------+--------+----+--------+----+--------------+--------+----+--------------------+--------+-------------+---------------+\n",
            "|12343475|   JE202728|2021-04-16 20:45:00|   056XX N RIDGE AVE|0820|        THEFT|      $500 AND UNDER|     OTHER (SPECIFY)| false|   false|2013|     020|  48|            77|      06|2021|04/23/2021 04:51:...|      20|      Lincoln|            020|\n",
            "|12602803|   JF125633|2021-10-21 11:00:00|083XX S STONY ISL...|500E|OTHER OFFENSE|       EAVESDROPPING|     OTHER (SPECIFY)| false|   false|0412|     004|   8|            45|      26|2021|02/27/2022 03:46:...|       4|South Chicago|            004|\n",
            "|12445976|   JE328996|2021-08-07 02:36:00|131XX S FORRESTVI...|041A|      BATTERY|AGGRAVATED - HANDGUN|              STREET| false|   false|0533|     005|   9|            54|     04B|2021|01/03/2023 03:46:...|       5|      Calumet|            005|\n",
            "+--------+-----------+-------------------+--------------------+----+-------------+--------------------+--------------------+------+--------+----+--------+----+--------------+--------+----+--------------------+--------+-------------+---------------+\n",
            "only showing top 3 rows\n",
            "\n"
          ]
        }
      ]
    },
    {
      "cell_type": "code",
      "source": [
        "ps.columns"
      ],
      "metadata": {
        "colab": {
          "base_uri": "https://localhost:8080/"
        },
        "id": "23sXoG0FyNe1",
        "outputId": "2a9d45d8-ca82-4be2-bdb8-4c5b9a9b2a55"
      },
      "execution_count": 89,
      "outputs": [
        {
          "output_type": "execute_result",
          "data": {
            "text/plain": [
              "['DISTRICT',\n",
              " 'DISTRICT NAME',\n",
              " 'ADDRESS',\n",
              " 'CITY',\n",
              " 'STATE',\n",
              " 'ZIP',\n",
              " 'WEBSITE',\n",
              " 'PHONE',\n",
              " 'FAX',\n",
              " 'TTY',\n",
              " 'X COORDINATE',\n",
              " 'Y COORDINATE',\n",
              " 'LATITUDE',\n",
              " 'LONGITUDE',\n",
              " 'LOCATION',\n",
              " 'Format_district']"
            ]
          },
          "metadata": {},
          "execution_count": 89
        }
      ]
    },
    {
      "cell_type": "code",
      "source": [],
      "metadata": {
        "id": "wY-gF8PJwx69"
      },
      "execution_count": null,
      "outputs": []
    },
    {
      "cell_type": "markdown",
      "source": [
        "### what is the most frequently reported stalking criminal activities?"
      ],
      "metadata": {
        "id": "xC7GOOjPliLE"
      }
    },
    {
      "cell_type": "code",
      "source": [
        "rc.select(col('Primary Type')).distinct().count()"
      ],
      "metadata": {
        "colab": {
          "base_uri": "https://localhost:8080/"
        },
        "id": "LuRVOfGNuvGM",
        "outputId": "caf8f90e-7dba-4e77-c9c8-6d7268f87b4b"
      },
      "execution_count": 103,
      "outputs": [
        {
          "output_type": "execute_result",
          "data": {
            "text/plain": [
              "31"
            ]
          },
          "metadata": {},
          "execution_count": 103
        }
      ]
    },
    {
      "cell_type": "code",
      "source": [
        "rc.select(col('Primary Type')).distinct().orderBy('Primary Type').show(31,truncate=False)"
      ],
      "metadata": {
        "colab": {
          "base_uri": "https://localhost:8080/"
        },
        "id": "rSclz_jJu5RF",
        "outputId": "1d5d2ce9-cede-4934-d81e-f28b52b83ea6"
      },
      "execution_count": 107,
      "outputs": [
        {
          "output_type": "stream",
          "name": "stdout",
          "text": [
            "+---------------------------------+\n",
            "|Primary Type                     |\n",
            "+---------------------------------+\n",
            "|ARSON                            |\n",
            "|ASSAULT                          |\n",
            "|BATTERY                          |\n",
            "|BURGLARY                         |\n",
            "|CONCEALED CARRY LICENSE VIOLATION|\n",
            "|CRIMINAL DAMAGE                  |\n",
            "|CRIMINAL SEXUAL ASSAULT          |\n",
            "|CRIMINAL TRESPASS                |\n",
            "|DECEPTIVE PRACTICE               |\n",
            "|GAMBLING                         |\n",
            "|HOMICIDE                         |\n",
            "|HUMAN TRAFFICKING                |\n",
            "|INTERFERENCE WITH PUBLIC OFFICER |\n",
            "|INTIMIDATION                     |\n",
            "|KIDNAPPING                       |\n",
            "|LIQUOR LAW VIOLATION             |\n",
            "|MOTOR VEHICLE THEFT              |\n",
            "|NARCOTICS                        |\n",
            "|NON-CRIMINAL                     |\n",
            "|OBSCENITY                        |\n",
            "|OFFENSE INVOLVING CHILDREN       |\n",
            "|OTHER NARCOTIC VIOLATION         |\n",
            "|OTHER OFFENSE                    |\n",
            "|PROSTITUTION                     |\n",
            "|PUBLIC INDECENCY                 |\n",
            "|PUBLIC PEACE VIOLATION           |\n",
            "|ROBBERY                          |\n",
            "|SEX OFFENSE                      |\n",
            "|STALKING                         |\n",
            "|THEFT                            |\n",
            "|WEAPONS VIOLATION                |\n",
            "+---------------------------------+\n",
            "\n"
          ]
        }
      ]
    },
    {
      "cell_type": "code",
      "source": [
        "ncrc = rc.filter(col('Primary Type') == 'STALKING')\n",
        "ncrc.show(30)\n"
      ],
      "metadata": {
        "colab": {
          "base_uri": "https://localhost:8080/"
        },
        "id": "DdozVvlWyUah",
        "outputId": "09c87bb5-7371-47d4-dae5-9ca620ac4293"
      },
      "execution_count": 115,
      "outputs": [
        {
          "output_type": "stream",
          "name": "stdout",
          "text": [
            "+--------+-----------+-------------------+--------------------+----+------------+--------------------+--------------------+------+--------+----+--------+----+--------------+--------+------------+------------+----+--------------------+------------+-------------+--------------------+\n",
            "|      ID|Case Number|               Date|               Block|IUCR|Primary Type|         Description|Location Description|Arrest|Domestic|Beat|District|Ward|Community Area|FBI Code|X Coordinate|Y Coordinate|Year|          Updated On|    Latitude|    Longitude|            Location|\n",
            "+--------+-----------+-------------------+--------------------+----+------------+--------------------+--------------------+------+--------+----+--------+----+--------------+--------+------------+------------+----+--------------------+------------+-------------+--------------------+\n",
            "|12345574|   JE205865|2021-04-14 00:00:00| 060XX S SANGAMON ST|0580|    STALKING|              SIMPLE|           APARTMENT| false|    true|0712|     007|  16|            68|     08A|     1171012|     1864729|2021|04/23/2021 04:49:...|41.784288355|-87.648545055|(41.784288355, -8...|\n",
            "|12874478|   JF452703|2021-10-01 00:01:00|    009XX S CLARK ST|0583|    STALKING|       CYBERSTALKING|           APARTMENT| false|   false|0123|     001|   4|            32|     08A|        null|        null|2021|10/29/2022 04:51:...|        null|         null|                null|\n",
            "|12343927|   JE203664|2021-04-19 08:00:00| 050XX N SHERIDAN RD|0584|    STALKING|VIOLATION OF STAL...|           RESIDENCE| false|   false|2024|     020|  48|             3|      26|     1168713|     1934093|2021|04/26/2021 04:49:...|41.974678235|-87.654963918|(41.974678235, -8...|\n",
            "|12347519|   JE207890|2021-04-01 00:00:00|  003XX S WHIPPLE ST|0580|    STALKING|              SIMPLE|           APARTMENT| false|   false|1124|     011|  28|            27|     08A|     1156099|     1898324|2021|04/27/2021 04:48:...|41.876790076|-87.702317506|(41.876790076, -8...|\n",
            "|12345779|   JE206034|2021-04-21 17:31:00|     034XX W 38TH ST|0580|    STALKING|              SIMPLE|           RESIDENCE| false|    true|0911|     009|  12|            58|     08A|     1154141|     1879189|2021|04/28/2021 04:54:...|41.824320672|-87.710016689|(41.824320672, -8...|\n",
            "|12346135|   JE206356|2021-04-21 22:00:00|     007XX E 88TH PL|0580|    STALKING|              SIMPLE|VEHICLE NON-COMME...| false|    true|0632|     006|   8|            44|     08A|     1182640|     1846457|2021|04/28/2021 04:54:...|41.733886079|-87.606478657|(41.733886079, -8...|\n",
            "|12345296|   JE205346|2021-04-21 01:20:00|010XX N KEYSTONE AVE|0584|    STALKING|VIOLATION OF STAL...|           RESIDENCE| false|   false|1111|     011|  37|            23|      26|     1149198|     1906609|2021|04/28/2021 04:54:...|41.899661443| -87.72744124|(41.899661443, -8...|\n",
            "|12350598|   JE211879|2021-04-02 15:00:00| 045XX S DREXEL BLVD|0580|    STALKING|              SIMPLE|           APARTMENT| false|    true|0221|     002|   4|            39|     08A|     1182957|     1875015|2021|04/29/2021 04:49:...|41.812244589|-87.604430616|(41.812244589, -8...|\n",
            "|12346841|   JE207177|2021-04-22 18:45:00|  017XX W ARTHUR AVE|0584|    STALKING|VIOLATION OF STAL...|           RESIDENCE|  true|   false|2432|     024|  40|             1|      26|     1163679|     1943485|2021|04/29/2021 04:51:...|42.000558076|-87.673209228|(42.000558076, -8...|\n",
            "|12446406|   JE329544|2021-08-07 00:00:00|045XX S CALIFORNI...|0580|    STALKING|              SIMPLE|              STREET| false|   false|0922|     009|  15|            58|     08A|     1158461|     1874478|2021|08/14/2021 05:06:...|41.811306003|-87.694296424|(41.811306003, -8...|\n",
            "|12347955|   JE207754|2021-04-23 13:00:00|     002XX E 37TH ST|0580|    STALKING|              SIMPLE|SCHOOL - PUBLIC G...| false|    true|0212|     002|   3|            35|     08A|     1178665|     1880515|2021|04/30/2021 04:49:...|41.827435856|-87.620005983|(41.827435856, -8...|\n",
            "|12347758|   JE208422|2021-04-24 01:00:00|    001XX N GREEN ST|0580|    STALKING|              SIMPLE|              STREET| false|    true|1224|     012|  27|            28|     08A|     1170711|     1901002|2021|05/01/2021 04:48:...|41.883831371|-87.648588508|(41.883831371, -8...|\n",
            "|12348110|   JE208767|2021-04-24 14:15:00|021XX N CALIFORNI...|0584|    STALKING|VIOLATION OF STAL...|POLICE FACILITY /...| false|    true|1414|     014|   1|            22|      26|     1157345|     1914452|2021|05/01/2021 04:48:...|41.921021491| -87.69730355|(41.921021491, -8...|\n",
            "|12348527|   JE208470|2021-04-24 05:00:00|080XX S MARYLAND AVE|0580|    STALKING|              SIMPLE|           APARTMENT| false|    true|0631|     006|   8|            44|     08A|     1183300|     1851826|2021|05/01/2021 04:48:...|41.748603883|-87.603894034|(41.748603883, -8...|\n",
            "|12447172|   JE330530|2021-08-08 11:10:00| 087XX S DAUPHIN AVE|0580|    STALKING|              SIMPLE|           APARTMENT| false|    true|0632|     006|   8|            44|     08A|     1184002|     1847032|2021|08/15/2021 05:04:...|41.735432271|-87.601471085|(41.735432271, -8...|\n",
            "|12350925|   JE211885|2021-04-26 14:30:00| 014XX S INDIANA AVE|0584|    STALKING|VIOLATION OF STAL...|           APARTMENT| false|   false|0132|     001|   3|            33|      26|     1177886|     1893687|2021|05/03/2021 04:48:...|41.863598471|-87.622463983|(41.863598471, -8...|\n",
            "|12350023|   JE211194|2021-04-26 21:35:00| 058XX S RICHMOND ST|0584|    STALKING|VIOLATION OF STAL...|           RESIDENCE|  true|    true|0824|     008|  16|            63|      26|     1157712|     1865753|2021|05/03/2021 04:48:...|41.787378676|-87.697280532|(41.787378676, -8...|\n",
            "|12350065|   JE211158|2021-04-26 21:00:00|052XX S DR MARTIN...|0580|    STALKING|              SIMPLE|           RESIDENCE| false|    true|0231|     002|   3|            40|     08A|     1179816|     1870312|2021|05/03/2021 04:48:...|41.799411682|-87.616095602|(41.799411682, -8...|\n",
            "|12448333|   JE331739|2021-08-09 14:50:00| 009XX W GUNNISON ST|0584|    STALKING|VIOLATION OF STAL...|           APARTMENT| false|   false|2024|     020|  46|             3|      26|     1169229|     1932412|2021|08/16/2021 04:50:...|41.970054296| -87.65311552|(41.970054296, -8...|\n",
            "|12353446|   JE214194|2021-04-04 12:00:00|    0000X N STATE ST|0580|    STALKING|              SIMPLE|SCHOOL - PRIVATE ...| false|   false|0112|     001|  42|            32|     08A|     1176364|     1900537|2021|05/04/2021 04:47:...|41.882429735|-87.627844406|(41.882429735, -8...|\n",
            "|12350991|   JE212325|2021-04-27 17:00:00|    001XX W MAPLE ST|0580|    STALKING|              SIMPLE|           RESIDENCE| false|   false|1824|     018|  27|             8|     08A|     1174883|     1907592|2021|05/04/2021 04:49:...|41.901822321|-87.633071176|(41.901822321, -8...|\n",
            "|12351268|   JE211597|2021-04-27 09:56:00|079XX S CARPENTER ST|0583|    STALKING|       CYBERSTALKING|           RESIDENCE| false|    true|0612|     006|  17|            71|     08A|     1170691|     1852219|2021|05/04/2021 04:49:...|41.749966369| -87.65008631|(41.749966369, -8...|\n",
            "|12628684|   JF156544|2021-04-29 09:00:00|039XX N NEW ENGLA...|0580|    STALKING|              SIMPLE|           RESIDENCE| false|    true|1632|     016|  38|            17|     08A|        null|        null|2021|02/28/2022 03:47:...|        null|         null|                null|\n",
            "|12352046|   JE212581|2021-04-28 06:00:00|085XX S KINGSTON AVE|0580|    STALKING|              SIMPLE|           RESIDENCE| false|    true|0423|     004|   7|            46|     08A|     1194648|     1848835|2021|05/05/2021 04:52:...|41.740124815|-87.562409836|(41.740124815, -8...|\n",
            "|12449051|   JE332730|2021-08-10 13:28:00|040XX W BELLE PLA...|0581|    STALKING|          AGGRAVATED|              STREET| false|    true|1722|     017|  39|            16|     08A|     1148781|     1926943|2021|08/17/2021 04:47:...| 41.95546784|-87.728446009|(41.95546784, -87...|\n",
            "|12352816|   JE213817|2021-04-29 07:45:00|    019XX N CLARK ST|0580|    STALKING|              SIMPLE|           APARTMENT| false|   false|1814|     018|  43|             7|     08A|     1174188|     1913264|2021|05/06/2021 04:50:...|41.917402098|-87.635454463|(41.917402098, -8...|\n",
            "|12452369|   JE334906|2021-08-09 14:20:00|077XX S INGLESIDE...|0580|    STALKING|              SIMPLE|              STREET| false|   false|0624|     006|   8|            69|     08A|     1183899|     1853859|2021|08/17/2021 04:45:...|41.754168689|-87.601635756|(41.754168689, -8...|\n",
            "|12548143|   JE453994|2021-09-06 12:00:00|   028XX N MASON AVE|0580|    STALKING|              SIMPLE|           APARTMENT| false|   false|2514|     025|  30|            19|     08A|     1136237|     1918233|2021|11/24/2021 03:47:...|41.931800389|-87.774769643|(41.931800389, -8...|\n",
            "|12353049|   JE214717|2021-04-30 08:45:00| 133XX S LANGLEY AVE|0580|    STALKING|              SIMPLE|              STREET| false|    true|0533|     005|   9|            54|     08A|     1183291|     1817357|2021|05/07/2021 04:49:...|41.654016709| -87.60499518|(41.654016709, -8...|\n",
            "|12449947|   JE333626|2021-08-11 08:45:00|     064XX W 64TH PL|0580|    STALKING|              SIMPLE|              STREET| false|    true|0812|     008|  23|            64|     08A|     1134598|     1861059|2021|08/18/2021 04:55:...|41.774935438|-87.782141511|(41.774935438, -8...|\n",
            "+--------+-----------+-------------------+--------------------+----+------------+--------------------+--------------------+------+--------+----+--------+----+--------------+--------+------------+------------+----+--------------------+------------+-------------+--------------------+\n",
            "only showing top 30 rows\n",
            "\n"
          ]
        }
      ]
    },
    {
      "cell_type": "code",
      "source": [
        "ncrc.groupBy(col('Description')).count().orderBy('count', ascending=False).show(truncate=False)"
      ],
      "metadata": {
        "colab": {
          "base_uri": "https://localhost:8080/"
        },
        "id": "9PfkNXOcl4sH",
        "outputId": "2d6ea47e-9ae5-4939-909f-b0e4532f8654"
      },
      "execution_count": 117,
      "outputs": [
        {
          "output_type": "stream",
          "name": "stdout",
          "text": [
            "+--------------------------------------+-----+\n",
            "|Description                           |count|\n",
            "+--------------------------------------+-----+\n",
            "|SIMPLE                                |196  |\n",
            "|VIOLATION OF STALKING NO CONTACT ORDER|92   |\n",
            "|CYBERSTALKING                         |28   |\n",
            "|AGGRAVATED                            |3    |\n",
            "+--------------------------------------+-----+\n",
            "\n"
          ]
        }
      ]
    },
    {
      "cell_type": "markdown",
      "source": [
        "The most frequent stalking criminal activity is descriped as 'SIMPLE'"
      ],
      "metadata": {
        "id": "KPGaxNvPxwN7"
      }
    },
    {
      "cell_type": "markdown",
      "source": [
        "### Which day of the week with the most reported crime?"
      ],
      "metadata": {
        "id": "ZCXRZbOVtQq5"
      }
    },
    {
      "cell_type": "code",
      "source": [
        "from pyspark.sql.functions import date_format\n",
        "\n",
        "\n",
        "df = rc.withColumn(\"Day\", date_format(col(\"Date\"), \"E\"))\n",
        "df.select(\"Date\", \"Day\").show(5)"
      ],
      "metadata": {
        "colab": {
          "base_uri": "https://localhost:8080/"
        },
        "id": "ms0m72_AtXQF",
        "outputId": "07d2f9c6-ba73-4641-eb37-a19d433fc69e"
      },
      "execution_count": 100,
      "outputs": [
        {
          "output_type": "stream",
          "name": "stdout",
          "text": [
            "+-------------------+---+\n",
            "|               Date|Day|\n",
            "+-------------------+---+\n",
            "|2021-04-16 20:45:00|Fri|\n",
            "|2021-10-21 11:00:00|Thu|\n",
            "|2021-08-07 02:36:00|Sat|\n",
            "|2021-06-02 11:30:00|Wed|\n",
            "|2021-01-09 15:59:00|Sat|\n",
            "+-------------------+---+\n",
            "only showing top 5 rows\n",
            "\n"
          ]
        }
      ]
    },
    {
      "cell_type": "code",
      "source": [
        "df.groupby('Day').count().orderBy('count').show(1)"
      ],
      "metadata": {
        "colab": {
          "base_uri": "https://localhost:8080/"
        },
        "id": "lRMrqVbFuNjk",
        "outputId": "572ce29f-b87e-4f1a-ae0b-371860c88947"
      },
      "execution_count": 102,
      "outputs": [
        {
          "output_type": "stream",
          "name": "stdout",
          "text": [
            "+---+-----+\n",
            "|Day|count|\n",
            "+---+-----+\n",
            "|Thu|24553|\n",
            "+---+-----+\n",
            "only showing top 1 row\n",
            "\n"
          ]
        }
      ]
    },
    {
      "cell_type": "markdown",
      "source": [
        "Thursday has the most reported crime"
      ],
      "metadata": {
        "id": "4iZAHDnUyGry"
      }
    },
    {
      "cell_type": "code",
      "source": [],
      "metadata": {
        "id": "pp5IgFccuTzT"
      },
      "execution_count": null,
      "outputs": []
    }
  ],
  "metadata": {
    "colab": {
      "provenance": [],
      "include_colab_link": true
    },
    "kernelspec": {
      "display_name": "Python 3",
      "language": "python",
      "name": "python3"
    },
    "language_info": {
      "codemirror_mode": {
        "name": "ipython",
        "version": 3
      },
      "file_extension": ".py",
      "mimetype": "text/x-python",
      "name": "python",
      "nbconvert_exporter": "python",
      "pygments_lexer": "ipython3",
      "version": "3.6.5"
    }
  },
  "nbformat": 4,
  "nbformat_minor": 0
}